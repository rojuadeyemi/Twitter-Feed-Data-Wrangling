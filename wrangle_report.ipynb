{
 "cells": [
  {
   "cell_type": "markdown",
   "id": "a6e28a4f-8a00-4190-a5c8-262c7397ac09",
   "metadata": {},
   "source": [
    "## Data Wrangling Report"
   ]
  },
  {
   "cell_type": "markdown",
   "id": "7c4e4c89-c665-4278-9a55-05ec04f39709",
   "metadata": {},
   "source": [
    "### Introduction"
   ]
  },
  {
   "cell_type": "markdown",
   "id": "ab2ea921-651a-4c7b-b11a-da511b3c783c",
   "metadata": {},
   "source": [
    "In this project, I gathered data from the WeRateDogs Twitter archive. The goal for this project was to wrangle WeRateDogs Twitter data to create interesting and trustworthy analyses and visualizations."
   ]
  },
  {
   "cell_type": "markdown",
   "id": "91954eec-20c9-45ec-ba09-da9c9c0e5e46",
   "metadata": {},
   "source": [
    "The wrangling tasks completed in this project are:\n",
    "* Data gathering\n",
    "* Assessing data\n",
    "* Cleaning data"
   ]
  },
  {
   "cell_type": "markdown",
   "id": "777d8a66-39c3-4e8c-babe-302ef5d8f4d8",
   "metadata": {},
   "source": [
    "### Data Gathering\n",
    "\n",
    "Data for the project was gathered from 3 sources as explained below"
   ]
  },
  {
   "cell_type": "markdown",
   "id": "8636ce29-7bda-48a3-b3ff-07b22ce09967",
   "metadata": {},
   "source": [
    "#### 1. Enhanced Twitter Archive"
   ]
  },
  {
   "cell_type": "markdown",
   "id": "714260db-a0a6-4764-abe1-b289e0e49f47",
   "metadata": {},
   "source": [
    "This archive contains basic tweet data (tweet ID, timestamp, text, etc.) up to August 1, 2017, since 2015 that the WeRateDogs account was created. This was provided by Udacity in a csv file format and contains 2000+ basic tweet data about dog rating, name, and \"stage\"."
   ]
  },
  {
   "cell_type": "markdown",
   "id": "98e218ec-66ab-4bbc-a1e2-9e9886665ab0",
   "metadata": {},
   "source": [
    "#### 2. Tweet Image Predictions Dataset"
   ]
  },
  {
   "cell_type": "markdown",
   "id": "5ee9430e-12c0-4504-8b54-6e33c4a31a8d",
   "metadata": {},
   "source": [
    "The file is hosted on Udacity's servers and was downloaded programmatically, using the Requests library, from [image_predictions.tsv](https://d17h27t6h515a5.cloudfront.net/topher/2017/August/599fd2ad_image-predictions/image-predictions.tsv). This dataset contains dog breed prediction results (from a Neural Network classifier) for every dog images from the WeRateDogs Twitter archive"
   ]
  },
  {
   "cell_type": "markdown",
   "id": "a18349a2-c3e8-4e36-b0d4-5a9d51751640",
   "metadata": {},
   "source": [
    "#### 3. Twitter API (tweepy)"
   ]
  },
  {
   "cell_type": "markdown",
   "id": "6ba85f89-ce5a-4d31-9432-ebc3be68fbf8",
   "metadata": {},
   "source": [
    "This data resides on Twitter site and can be pulled via their API tweepy. I used the API to query additional data (in JSON format) and downloaded into a file named tweet_json.txt. This file has favorite and retweet count information for each tweet ID in the WeRateDogs Twitter archive, which are crucial for the dog rating analysis"
   ]
  },
  {
   "cell_type": "markdown",
   "id": "acfe1c07-3c2a-4a1d-be44-2f27a1ecc5c1",
   "metadata": {},
   "source": [
    "### Assessing Data\n",
    "\n",
    "Below are the steps taking in assessing the data"
   ]
  },
  {
   "cell_type": "markdown",
   "id": "712b8b7d-e4a1-438b-960e-7071902daf6a",
   "metadata": {},
   "source": [
    "#### Enhanced Twitter Archive"
   ]
  },
  {
   "cell_type": "markdown",
   "id": "ebd57143-bf72-403d-8821-01b860466c90",
   "metadata": {},
   "source": [
    "* As a first step, a sample of data was assessed visually and a summary of data types and non-null values was displayed. This allowed us to identify columns with incorrect data type and/or null values.\n",
    "* Then, IDs were checked for duplicates.\n",
    "* Next, the number of tweets which are replies and retweets was assessed.\n",
    "* Expanded URLs were firstly assessed visually and then checked programmatically for the existence of more than one URL\n",
    "* `Name` column was assessed programmatically for anomalies and data inconsitency.\n",
    "* Then, all tweets were checked for dogs with more than one growth stage assigned.\n",
    "* Rating denominators and numerators were assessed visually by displaying a sample of data, and then based on the assessment of `rating` columns, `text` column was checked programmatically for any float ratings"
   ]
  },
  {
   "cell_type": "markdown",
   "id": "02c21105-2d72-472f-bb98-b423095cdd20",
   "metadata": {},
   "source": [
    "##### Oservations from Enhanced Twitter Archive Assessment"
   ]
  },
  {
   "cell_type": "markdown",
   "id": "3d80a365-3d4b-4a17-aade-671407667275",
   "metadata": {},
   "source": [
    "##### Quality issues\n",
    "\n",
    "1. Dataset contains retweets\n",
    "\n",
    "2. Tthe `name` columnn contains \"None\" and some stopwords like 'a', 'an' etc\n",
    "\n",
    "3. Some dogs are not classified as one of \"doggo\", \"floofer\", \"pupper\" or \"puppo\".\n",
    "\n",
    "4. The source contains HTML code and not really sources\n",
    "\n",
    "5.  Expanded url is more than one\n",
    "\n",
    "6. Wrong datatype for Timestamp column\n",
    "\n",
    "7. Wrong numerator ratings"
   ]
  },
  {
   "cell_type": "markdown",
   "id": "c4434431-c33d-4cec-b032-02c595495f16",
   "metadata": {},
   "source": [
    "##### Tidiness issues\n",
    "1. The columns doggo, floofer,pupper and puppo represent dog's stage and should be in one column"
   ]
  },
  {
   "cell_type": "markdown",
   "id": "e45f74db-cf4c-49db-9fcc-384adf8f8670",
   "metadata": {},
   "source": [
    "#### Tweet Image Predictions Dataset"
   ]
  },
  {
   "cell_type": "markdown",
   "id": "da18ee30-2701-416c-8d3a-f230396ff161",
   "metadata": {},
   "source": [
    "* A sample of data was assessed visually and a summary of data types and non-null values is displayed. This allows to identify columns with the incorrect data type and/or null values\n",
    "* Then, the jpg_url column was checked for duplicates\n",
    "* Lastly, the `1st prediction` was checked to see how many images were correctly classified as dog images"
   ]
  },
  {
   "cell_type": "markdown",
   "id": "70a9f7e7-ff04-4de2-82f5-9cbda9a1f62e",
   "metadata": {},
   "source": [
    "##### Oservations from Image Predictions Dataset Assessment"
   ]
  },
  {
   "cell_type": "markdown",
   "id": "1b420bc8-d9f1-48d5-818d-f6ffcb81f41c",
   "metadata": {},
   "source": [
    "##### Quality issues\n",
    "\n",
    "1. The dataset contains 66 duplicated images/retweets\n",
    "\n",
    "2. Some pictures were not predicted to contain dog by top prediction model\n",
    "\n",
    "3. Breed `prediction` column contains inconsistent cases, and underscores were used to separate breed name"
   ]
  },
  {
   "cell_type": "markdown",
   "id": "6c8cd063-c08b-4a02-88d4-3e608ab2e7ea",
   "metadata": {},
   "source": [
    "##### Tidiness issues\n",
    "\n",
    "1. The dataset contains `tweet_id`. Thus, it should be merged with the Twitter Archive dataset."
   ]
  },
  {
   "cell_type": "markdown",
   "id": "35586706-6bc3-4018-8249-8ef8bf706bf6",
   "metadata": {},
   "source": [
    "#### Twitter API Dataset"
   ]
  },
  {
   "cell_type": "markdown",
   "id": "34d34c1c-3845-43b2-abc6-e0adae766714",
   "metadata": {},
   "source": [
    "* Checked summary of data types and non-null values in the dataset.\n",
    "* Then checked if the API Data contains Retweets"
   ]
  },
  {
   "cell_type": "markdown",
   "id": "3527ed44-ee24-4f17-b7a7-a8dc999d9648",
   "metadata": {},
   "source": [
    "##### Oservations from Twitter API Dataset Assessment"
   ]
  },
  {
   "cell_type": "markdown",
   "id": "1819084b-6df5-4b12-9e57-9d642d37347b",
   "metadata": {},
   "source": [
    "#### Tidiness issues\n",
    "\n",
    "1. `display_text_range` contains 2 variables\n",
    "\n",
    "2. Contains `tweet_id`. Thus, it should be merged with the twitter archive dataset."
   ]
  },
  {
   "cell_type": "markdown",
   "id": "f632d751-f4b8-4190-a93d-2067aea0f740",
   "metadata": {},
   "source": [
    "### Data Cleaning"
   ]
  },
  {
   "cell_type": "markdown",
   "id": "4a920497-2879-4367-bfe0-7b0b0fe949a9",
   "metadata": {},
   "source": [
    "The quality and tidiness issues identified in the Data Assessment section were cleaned using pandas, regex, and come custom modules etc"
   ]
  },
  {
   "cell_type": "markdown",
   "id": "41345b10-ccd4-417b-a5b7-2f83f0a3535c",
   "metadata": {},
   "source": [
    "#### Twitter Archive Dataset"
   ]
  },
  {
   "cell_type": "markdown",
   "id": "f0255f64-e520-48fb-ae70-2155a16bba6b",
   "metadata": {},
   "source": [
    "* First, a copy of the dataset was created for use throughout the cleaning exercise.\n",
    "* Then, I removed retweets and response to tweets data from the dataset. Then drop columns with retweet and replies information\n",
    "* Replaced `names` that are stopwords and `None` with NaN\n",
    "* Dog 'stage' classification (`doggo, floofer, pupper, puppo`) which was broken into four separate columns, was merged into one column.\n",
    "* Extract Dog stage from the `text` column\n",
    "* `Source` column which contains HTML was redefined by extracting sources from the HTML\n",
    "* We have some tweet URLs which contain more than one link, therefore we built correct links by using the tweet id.\n",
    "* Next, we fixed the `timestamp` column which has an incorrect data type, by converting it to a DateTime object\n",
    "* Lastly, re-extracted the numerator ratings from the `text` column and cleaned appropriately"
   ]
  },
  {
   "cell_type": "markdown",
   "id": "7ea09739-896c-4adb-94b2-4690b845f057",
   "metadata": {},
   "source": [
    "#### Tweet Image Predictions Dataset"
   ]
  },
  {
   "cell_type": "markdown",
   "id": "a0e526b7-585e-41bc-b79c-67364e20cb8e",
   "metadata": {},
   "source": [
    "* First, a copy of the dataset was created for use throughout the cleaning exercise\n",
    "* Then dropped the 66 duplicated images from the dataset\n",
    "* For the pictures where the top prediction was not a dog, 2nd or 3rd prediction was used to obtain the dog breed\n",
    "* Then replaced underscores with whitespace in the `breed` column, and then capitalized the first letter of each word to make it human readable\n",
    "* Finaly, the cleaned version of this dataset was merged with Twitter Archive sataset set using twitter_id"
   ]
  },
  {
   "cell_type": "markdown",
   "id": "9ae93d02-00c2-45b3-9a4e-15e97b398a5c",
   "metadata": {},
   "source": [
    "#### Twitter API"
   ]
  },
  {
   "cell_type": "markdown",
   "id": "b2a5f3b8-a73a-4894-bfab-25d06e934ff8",
   "metadata": {},
   "source": [
    "* First, a copy of the dataset was created for use throughout the cleaning exercise\n",
    "* The `text range` column was splitted into two separate columns: `lower_text_range` and `upper_text_range`\n",
    "* Since the dataset contains `twitter_id` column, this was further merged with the Twitter Archive dataset"
   ]
  },
  {
   "cell_type": "markdown",
   "id": "cc9284eb-67b8-450d-be3c-23ad1f605341",
   "metadata": {},
   "source": [
    "#### Storing Data\n",
    "Before further analysis, the cleaned consolidated dataset was saved to a CSV file named `twitter_archive_master.csv` and an `SQLite` file"
   ]
  }
 ],
 "metadata": {
  "kernelspec": {
   "display_name": "Python 3 (ipykernel)",
   "language": "python",
   "name": "python3"
  },
  "language_info": {
   "codemirror_mode": {
    "name": "ipython",
    "version": 3
   },
   "file_extension": ".py",
   "mimetype": "text/x-python",
   "name": "python",
   "nbconvert_exporter": "python",
   "pygments_lexer": "ipython3",
   "version": "3.12.4"
  }
 },
 "nbformat": 4,
 "nbformat_minor": 5
}
